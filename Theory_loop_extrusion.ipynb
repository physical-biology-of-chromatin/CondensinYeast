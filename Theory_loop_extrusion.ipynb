{
 "cells": [
  {
   "cell_type": "code",
   "execution_count": 8,
   "id": "64c789dd",
   "metadata": {},
   "outputs": [
    {
     "data": {
      "text/plain": [
       "[<matplotlib.lines.Line2D at 0x7faef7fdac90>]"
      ]
     },
     "execution_count": 8,
     "metadata": {},
     "output_type": "execute_result"
    },
    {
     "data": {
      "image/png": "[encoded data removed]",
      "text/plain": [
       "<Figure size 432x288 with 1 Axes>"
      ]
     },
     "metadata": {
      "needs_background": "light"
     },
     "output_type": "display_data"
    }
   ],
   "source": [
    "import numpy as np\n",
    "import matplotlib.pyplot as plt\n",
    "\n",
    "L = 450              #length of the chromosome in kb\n",
    "gamma = 1.5          #gamma exponent\n",
    "p = 100              #processivity of loop extuder in kb\n",
    "d = 0.10             #density of bounded extruders\n",
    "\n",
    "l1 = 50              #block site 1 in kb\n",
    "dl1 = 10             #block domain 1 in kb\n",
    "l2 = 150             #block site 2 in kb\n",
    "dl2 = 10             #block domain 2 in kb\n",
    "l3 = 250             #block site 3 in kb\n",
    "dl3 = 10             #block domain 3 in kb\n",
    "l4 = 350             #block site 4 in kb\n",
    "dl4 = 10             #block domain 4 in kb\n",
    "\n",
    "a1 = 0.05            #density block site 1\n",
    "a2 = 0.05            #density block site 2\n",
    "a3 = 0.05            #density block site 3\n",
    "a4 = 0.05            #density block site 4\n",
    "\n",
    "s = np.arange(1,L+1)\n",
    "cont = np.zeros((L,2))\n",
    "conts0 =np.zeros(L)\n",
    "for i in range(L):\n",
    "    l = np.arange(s[i])\n",
    "    conts01 = sum(np.exp(-l/p)/((s[i]-l)**gamma)/p)\n",
    "    l = np.arange(s[i]+1,L)\n",
    "    conts02 = sum(np.exp(-l/p)/((s[i]*(l-s[i])/l)**gamma)/p)\n",
    "    conts0[i] = conts01+conts02\n",
    "    cont[i,1] = 1/(s[i]**gamma)\n",
    "\n",
    "conts1 =np.zeros((dl1,L))\n",
    "for k1 in range(dl1):\n",
    "    L11 = l1+k1\n",
    "    for i in range(L):\n",
    "        if (s[i]<L11):\n",
    "            conts1[k1,i] = conts0[i] + np.exp(-L11/p)/((s[i]*(L11-s[i])/L11)**gamma)\n",
    "        elif(s[i]>L11):\n",
    "            l = np.arange(L11)\n",
    "            conts1[k1,i] = sum(np.exp(-l/p)/((s[i]-l)**gamma)/p)\n",
    "            conts1[k1,i] += np.exp(-L11/p)/((s[i]-L11)**gamma)\n",
    "        else:\n",
    "            conts1[k1,i] = 1\n",
    "conts2 =np.zeros((dl2,L))\n",
    "for k1 in range(dl2):\n",
    "    L11 = l2+k1\n",
    "    for i in range(L):\n",
    "        if (s[i]<L11):\n",
    "            conts2[k1,i] = conts0[i] + np.exp(-L11/p)/((s[i]*(L11-s[i])/L11)**gamma)\n",
    "        elif(s[i]>L11):\n",
    "            l = np.arange(L11)\n",
    "            conts2[k1,i] = sum(np.exp(-l/p)/((s[i]-l)**gamma)/p)\n",
    "            conts2[k1,i] += np.exp(-L11/p)/((s[i]-L11)**gamma)\n",
    "        else:\n",
    "            conts2[k1,i] = 1\n",
    "conts3 =np.zeros((dl3,L))\n",
    "for k1 in range(dl3):\n",
    "    L11 = l3+k1\n",
    "    for i in range(L):\n",
    "        if (s[i]<L11):\n",
    "            conts3[k1,i] = conts0[i] + np.exp(-L11/p)/((s[i]*(L11-s[i])/L11)**gamma)\n",
    "        elif(s[i]>L11):\n",
    "            l = np.arange(L11)\n",
    "            conts3[k1,i] = sum(np.exp(-l/p)/((s[i]-l)**gamma)/p)\n",
    "            conts3[k1,i] += np.exp(-L11/p)/((s[i]-L11)**gamma)\n",
    "        else:\n",
    "            conts3[k1,i] = 1\n",
    "\n",
    "\n",
    "conts4 =np.zeros((dl4,L))\n",
    "for k1 in range(dl4):\n",
    "    L11 = l4+k1\n",
    "    for i in range(L):\n",
    "        if (s[i]<L11):\n",
    "            conts4[k1,i] = conts0[i] + np.exp(-L11/p)/((s[i]*(L11-s[i])/L11)**gamma)\n",
    "        elif(s[i]>L11):\n",
    "            l = np.arange(L11)\n",
    "            conts4[k1,i] = sum(np.exp(-l/p)/((s[i]-l)**gamma)/p)\n",
    "            conts4[k1,i] += np.exp(-L11/p)/((s[i]-L11)**gamma)\n",
    "        else:\n",
    "            conts4[k1,i] = 1\n",
    "\n",
    "\n",
    "pref0 = d*(1-a1)*(1-a2)*(1-a3)*(1-a4)\n",
    "pref1 = d*a1\n",
    "pref2 = d*(1-a1)*a2\n",
    "pref3 = d*(1-a1)*(1-a2)*a3\n",
    "pref4 = d*(1-a1)*(1-a2)*(1-a3)*a4\n",
    "prefn = (1-d)\n",
    "conts0 = pref0*conts0\n",
    "conts1 = pref1*conts1\n",
    "conts2 = pref2*conts2\n",
    "conts3 = pref3*conts3\n",
    "conts4 = pref4*conts4\n",
    "contsn = prefn*cont[:,1]\n",
    "for i in range(L):\n",
    "    for k1 in range(dl1):\n",
    "        for k2 in range(dl2):\n",
    "            for k3 in range(dl3):\n",
    "                for k4 in range(dl4):\n",
    "                    cont[i,0]+=conts0[i]+conts1[k1,i]+conts2[k2,i]+conts3[k3,i]+conts4[k4,i]+contsn[i]\n",
    "\n",
    "plt.plot(s,cont[:,0]/cont[:,1]/dl1/dl2/dl3/dl4,'r-',lw=2,label='Theory')\n",
    "plt.ylabel('Contact frequency/CTL')                                                        \n",
    "plt.xlabel('Distance from VP (kb)')\n",
    "plt.title('p='+str(p)+'kb, d='+str(d))\n",
    "legend = plt.legend()\n",
    "plt.plot([0,L],[1,1],'k--')"
   ]
  },
  {
   "cell_type": "code",
   "execution_count": null,
   "id": "f40ef6e5",
   "metadata": {},
   "outputs": [],
   "source": []
  }
 ],
 "metadata": {
  "kernelspec": {
   "display_name": "Python 3",
   "language": "python",
   "name": "python3"
  },
  "language_info": {
   "codemirror_mode": {
    "name": "ipython",
    "version": 3
   },
   "file_extension": ".py",
   "mimetype": "text/x-python",
   "name": "python",
   "nbconvert_exporter": "python",
   "pygments_lexer": "ipython3",
   "version": "3.7.10"
  }
 },
 "nbformat": 4,
 "nbformat_minor": 5
}
